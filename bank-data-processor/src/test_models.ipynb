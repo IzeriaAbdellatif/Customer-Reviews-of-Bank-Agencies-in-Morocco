{
 "cells": [
  {
   "cell_type": "code",
   "execution_count": 1,
   "metadata": {},
   "outputs": [
    {
     "name": "stderr",
     "output_type": "stream",
     "text": [
      "/home/aizeria/Documents/Customer-Reviews-of-Bank-Agencies-in-Morocco/ScpPrjEnv/lib64/python3.13/site-packages/tqdm/auto.py:21: TqdmWarning: IProgress not found. Please update jupyter and ipywidgets. See https://ipywidgets.readthedocs.io/en/stable/user_install.html\n",
      "  from .autonotebook import tqdm as notebook_tqdm\n",
      "Device set to use cpu\n",
      "Device set to use cpu\n"
     ]
    }
   ],
   "source": [
    "from transformers import pipeline\n",
    "from typing import Optional\n",
    "\n",
    "\n",
    "# Add new imports for models\n",
    "sentiment_analyzer = pipeline(\"sentiment-analysis\", model=\"nlptown/bert-base-multilingual-uncased-sentiment\")\n",
    "topic_classifier = pipeline(\"zero-shot-classification\", model=\"facebook/bart-large-mnli\")\n",
    "\n",
    "\n",
    "# # Initialize lighter models\n",
    "# sentiment_analyzer = pipeline(\"sentiment-analysis\", \n",
    "#                             model=\"distilbert-base-uncased-finetuned-sst-2-english\",\n",
    "#                             device=\"cpu\")\n",
    "\n",
    "# topic_classifier = pipeline(\"zero-shot-classification\",\n",
    "#                           model=\"facebook/bart-large-mnli\",\n",
    "#                           device=\"cpu\")\n",
    "\n",
    "# Define topics for classification\n",
    "TOPICS = [\n",
    "    \"billing\",\n",
    "    \"customer service\",\n",
    "    \"security\",\n",
    "    \"ATM issues\",\n",
    "    \"wait times\",\n",
    "    \"staff behavior\",\n",
    "    \"mobile banking\",\n",
    "    \"account management\",\n",
    "    \"loans\",\n",
    "    \"other\"\n",
    "]"
   ]
  },
  {
   "cell_type": "code",
   "execution_count": 2,
   "metadata": {},
   "outputs": [],
   "source": [
    "def get_sentiment(text: Optional[str]) -> str:\n",
    "    \"\"\"Get sentiment from text\"\"\"\n",
    "    if not text:\n",
    "        return None\n",
    "    try:\n",
    "        result = sentiment_analyzer(text)\n",
    "        # Convert 5-class sentiment to three classes\n",
    "        score = float(result[0]['label'].split()[0])\n",
    "        if score > 3:\n",
    "            return \"positive\"\n",
    "        elif score < 3:\n",
    "            return \"negative\"\n",
    "        else:\n",
    "            return \"neutral\"\n",
    "    except Exception as e:\n",
    "        print(f\"Error in sentiment analysis: {str(e)}\")\n",
    "        return None\n",
    "\n",
    "def get_topic(text: Optional[str]) -> str:\n",
    "    \"\"\"Get topic from text\"\"\"\n",
    "    if not text:\n",
    "        return None\n",
    "    try:\n",
    "\n",
    "        result = topic_classifier(\n",
    "            text, \n",
    "            TOPICS,\n",
    "            multi_label=False,\n",
    "            hypothesis_template=\"This text is about {}.\"\n",
    "        )\n",
    "        # Add confidence threshold\n",
    "        if result['scores'][0] < 0.2:\n",
    "            return \"other\"\n",
    "        return result['labels'][0]\n",
    "    except Exception as e:\n",
    "        print(f\"Error in topic classification: {str(e)}\")\n",
    "        return None"
   ]
  },
  {
   "cell_type": "code",
   "execution_count": 15,
   "metadata": {},
   "outputs": [
    {
     "name": "stdout",
     "output_type": "stream",
     "text": [
      "\n",
      "Text: Great service and helpful staff\n",
      "Sentiment: positive\n",
      "Topic: customer service\n",
      "\n",
      "Text: Average experience, nothing special\n",
      "Sentiment: neutral\n",
      "Topic: other\n",
      "\n",
      "Text: Terrible waiting times and rude staff\n",
      "Sentiment: negative\n",
      "Topic: staff behavior\n",
      "\n",
      "Text: The ATM was out of service\n",
      "Sentiment: negative\n",
      "Topic: ATM issues\n",
      "\n",
      "Text: \n",
      "Sentiment: None\n",
      "Topic: None\n",
      "\n",
      "Text: None\n",
      "Sentiment: None\n",
      "Topic: None\n"
     ]
    }
   ],
   "source": [
    "test_texts = [\n",
    "        \"Great service and helpful staff\",  # Should be positive\n",
    "        \"Average experience, nothing special\",  # Should be neutral\n",
    "        \"Terrible waiting times and rude staff\",  # Should be negative\n",
    "        \"The ATM was out of service\",  # Should be \"ATM issues\"\n",
    "        \"\",  # Should handle empty text\n",
    "        None\n",
    "    ]\n",
    "    \n",
    "for text in test_texts:\n",
    "    print(f\"\\nText: {text}\")\n",
    "    print(f\"Sentiment: {get_sentiment(text)}\")\n",
    "    print(f\"Topic: {get_topic(text)}\")"
   ]
  },
  {
   "cell_type": "code",
   "execution_count": 16,
   "metadata": {},
   "outputs": [
    {
     "name": "stderr",
     "output_type": "stream",
     "text": [
      "Device set to use cpu\n",
      "Device set to use cpu\n"
     ]
    }
   ],
   "source": [
    "from transformers import (\n",
    "    AutoModelForSequenceClassification, \n",
    "    AutoTokenizer, \n",
    "    pipeline\n",
    ")\n",
    "import torch\n",
    "\n",
    "# Configure for CPU usage\n",
    "device = \"cpu\"\n",
    "\n",
    "# Initialize sentiment analyzer\n",
    "sentiment_model_name = \"nlptown/bert-base-multilingual-uncased-sentiment\"\n",
    "sentiment_model = AutoModelForSequenceClassification.from_pretrained(sentiment_model_name)\n",
    "sentiment_tokenizer = AutoTokenizer.from_pretrained(sentiment_model_name)\n",
    "sentiment_analyzer = pipeline(\n",
    "    \"sentiment-analysis\", \n",
    "    model=sentiment_model, \n",
    "    tokenizer=sentiment_tokenizer,\n",
    "    device=device\n",
    ")\n",
    "\n",
    "# Initialize topic classifier\n",
    "topic_model_name = \"facebook/bart-large-mnli\"\n",
    "topic_model = AutoModelForSequenceClassification.from_pretrained(topic_model_name)\n",
    "topic_tokenizer = AutoTokenizer.from_pretrained(topic_model_name)\n",
    "topic_classifier = pipeline(\n",
    "    \"zero-shot-classification\",\n",
    "    model=topic_model,\n",
    "    tokenizer=topic_tokenizer,\n",
    "    device=device\n",
    ")\n"
   ]
  },
  {
   "cell_type": "code",
   "execution_count": 17,
   "metadata": {},
   "outputs": [
    {
     "name": "stdout",
     "output_type": "stream",
     "text": [
      "\n",
      "Text: Great service and helpful staff\n",
      "Sentiment: positive\n",
      "Topic: customer service\n",
      "\n",
      "Text: Average experience, nothing special\n",
      "Sentiment: neutral\n",
      "Topic: other\n",
      "\n",
      "Text: Terrible waiting times and rude staff\n",
      "Sentiment: negative\n",
      "Topic: staff behavior\n",
      "\n",
      "Text: The ATM was out of service\n",
      "Sentiment: negative\n",
      "Topic: ATM issues\n",
      "\n",
      "Text: \n",
      "Sentiment: None\n",
      "Topic: None\n",
      "\n",
      "Text: None\n",
      "Sentiment: None\n",
      "Topic: None\n"
     ]
    }
   ],
   "source": [
    "\n",
    "# Test the models\n",
    "test_texts = [\n",
    "    \"Great service and helpful staff\",  # Should be positive\n",
    "    \"Average experience, nothing special\",  # Should be neutral\n",
    "    \"Terrible waiting times and rude staff\",  # Should be negative\n",
    "    \"The ATM was out of service\",  # Should be \"ATM issues\"\n",
    "    \"\",  # Should handle empty text\n",
    "    None  # Should handle None\n",
    "]\n",
    "\n",
    "# Run tests\n",
    "for text in test_texts:\n",
    "    print(f\"\\nText: {text}\")\n",
    "    print(f\"Sentiment: {get_sentiment(text)}\")\n",
    "    print(f\"Topic: {get_topic(text)}\")\n",
    "\n",
    "# Clear CUDA cache if needed\n",
    "if torch.cuda.is_available():\n",
    "    torch.cuda.empty_cache()"
   ]
  }
 ],
 "metadata": {
  "kernelspec": {
   "display_name": "ScpPrjEnv",
   "language": "python",
   "name": "python3"
  },
  "language_info": {
   "codemirror_mode": {
    "name": "ipython",
    "version": 3
   },
   "file_extension": ".py",
   "mimetype": "text/x-python",
   "name": "python",
   "nbconvert_exporter": "python",
   "pygments_lexer": "ipython3",
   "version": "3.13.2"
  }
 },
 "nbformat": 4,
 "nbformat_minor": 2
}
